{
 "cells": [
  {
   "cell_type": "markdown",
   "id": "c16bd68a",
   "metadata": {},
   "source": [
    "## Import main libraries"
   ]
  },
  {
   "cell_type": "code",
   "execution_count": 2,
   "id": "36aabc32",
   "metadata": {
    "id": "36aabc32"
   },
   "outputs": [],
   "source": [
    "import numpy as np\n",
    "import pandas as pd\n",
    "from keras.models import Sequential\n",
    "from keras.layers import Conv2D, MaxPooling2D, Flatten, Dense , BatchNormalization ,Dropout\n",
    "from sklearn.model_selection import train_test_split\n",
    "import seaborn as sns\n",
    "import matplotlib.pyplot as plt\n",
    "\n",
    "from Predictions_test_set import *\n",
    "import tensorflow as tf\n",
    "import keras_tuner as kt\n",
    "import keras\n",
    "from tensorflow.keras.callbacks import EarlyStopping, History\n",
    "from keras.preprocessing.image import ImageDataGenerator"
   ]
  },
  {
   "cell_type": "markdown",
   "id": "909aa748",
   "metadata": {},
   "source": [
    "## Import the training and test set\n",
    "\n",
    "In this section we import both training and test sets and also an excel file built by ourselves that will help us to create a dictionary that will we used for mapping the letters with their corresponding number (0-25). Also we do some data preprocessing"
   ]
  },
  {
   "cell_type": "code",
   "execution_count": 3,
   "id": "451fadd8",
   "metadata": {
    "id": "451fadd8"
   },
   "outputs": [],
   "source": [
    "#Import training and test sets\n",
    "train=pd.read_csv(\"ascii-sign-language/sign_mnist_train.csv\")\n",
    "\n",
    "test = pd.read_csv(\"ascii-sign-language/test.csv\")\n",
    "\n",
    "#Create dictionary to map the predicted numbers (0-25) (and no cases for 9=J or 25=Z because of gesture motions).\n",
    "map_letters=pd.read_excel(r\"ascii-sign-language/Letters.xlsx\")\n",
    "map_letters[\"label\"] = np.where(map_letters[\"label\"] >= 9, map_letters[\"label\"] - 1, map_letters[\"label\"])\n",
    "dictionary_letters = dict(map_letters.values)"
   ]
  },
  {
   "cell_type": "code",
   "execution_count": 4,
   "id": "c3dd32c9",
   "metadata": {
    "id": "c3dd32c9"
   },
   "outputs": [],
   "source": [
    "x_train, x_val,y_train, y_val = train_test_split(train.iloc[:,1:] , train[\"label\"],\n",
    "                                                  stratify=train[\"label\"], random_state=0,)\n",
    "\n",
    "# Reshape the data to be suitable for CNN\n",
    "x_train=np.array(x_train)\n",
    "x_val=np.array(x_val)\n",
    "\n",
    "x_train = x_train.reshape(x_train.shape[0], 28, 28, 1).astype('float32')\n",
    "x_val = x_val.reshape(x_val.shape[0], 28, 28, 1).astype('float32')\n",
    "\n",
    "#LETS ADJUST THE NUMBER OF CLASSES SINCE 9 IS NOT INCLUDED\n",
    "y_train=np.array(y_train)\n",
    "y_train = np.where(y_train >= 9, y_train - 1, y_train)\n",
    "y_val=np.array(y_val)\n",
    "y_val = np.where(y_val >= 9, y_val - 1, y_val)\n",
    "\n",
    "# Normalize pixel values to be between 0 and 1\n",
    "x_train /= 255\n",
    "x_val /= 255"
   ]
  },
  {
   "cell_type": "code",
   "execution_count": 5,
   "id": "c5c25d11",
   "metadata": {
    "colab": {
     "base_uri": "https://localhost:8080/"
    },
    "id": "c5c25d11",
    "outputId": "0aa72d79-8133-480e-973d-b16a319c595b"
   },
   "outputs": [
    {
     "data": {
      "text/plain": [
       "(20591, 28, 28, 1)"
      ]
     },
     "execution_count": 5,
     "metadata": {},
     "output_type": "execute_result"
    }
   ],
   "source": [
    "x_train.shape"
   ]
  },
  {
   "cell_type": "code",
   "execution_count": 6,
   "id": "27ba98a7",
   "metadata": {
    "id": "27ba98a7"
   },
   "outputs": [],
   "source": [
    "# Create an ImageDataGenerator instance\n",
    "\n",
    "img_augmentation = ImageDataGenerator(\n",
    "    rotation_range=10,\n",
    "    width_shift_range=0.2,\n",
    "    height_shift_range=0.2,\n",
    "    shear_range=0.2,\n",
    "    zoom_range=0.01,\n",
    "    fill_mode='nearest',validation_split=0.2\n",
    ")"
   ]
  },
  {
   "cell_type": "markdown",
   "id": "55f8c10d",
   "metadata": {
    "id": "55f8c10d"
   },
   "source": [
    "## Building blocks and hyperparameter tuning"
   ]
  },
  {
   "cell_type": "code",
   "execution_count": 7,
   "id": "138b09f4",
   "metadata": {
    "colab": {
     "base_uri": "https://localhost:8080/"
    },
    "id": "138b09f4",
    "outputId": "b775c8de-ea88-4f3e-dfbc-13fa67d97541"
   },
   "outputs": [
    {
     "name": "stdout",
     "output_type": "stream",
     "text": [
      "Search space summary\n",
      "Default search space size: 5\n",
      "units1 (Int)\n",
      "{'default': None, 'conditions': [], 'min_value': 32, 'max_value': 162, 'step': 32, 'sampling': 'linear'}\n",
      "units2 (Int)\n",
      "{'default': None, 'conditions': [], 'min_value': 32, 'max_value': 162, 'step': 32, 'sampling': 'linear'}\n",
      "activation (Choice)\n",
      "{'default': 'relu', 'conditions': [], 'values': ['relu', 'tanh'], 'ordered': False}\n",
      "learning_rate (Choice)\n",
      "{'default': 0.01, 'conditions': [], 'values': [0.01, 0.001, 0.0001], 'ordered': True}\n",
      "pooling_strides (Int)\n",
      "{'default': None, 'conditions': [], 'min_value': 1, 'max_value': 3, 'step': 1, 'sampling': 'linear'}\n"
     ]
    }
   ],
   "source": [
    "def model_builder1(hp):\n",
    "    #HYPERPARAMETERS**************************************************\n",
    "    hp_units1 = hp.Int('units1', min_value=32, max_value=162, step=32)\n",
    "    hp_units2 = hp.Int('units2', min_value=32, max_value=162, step=32)\n",
    "    activation = hp.Choice(\"activation\", [\"relu\", \"tanh\"])\n",
    "    hp_learning_rate = hp.Choice('learning_rate', values=[1e-2, 1e-3, 1e-4])\n",
    "    hp_pooling_strides = hp.Int('pooling_strides', min_value=1, max_value=3, step=1)  \n",
    "    #MODEL************************************************************\n",
    "    model = Sequential()\n",
    "    model.add(Conv2D(hp_units1, (3, 3), activation=activation, padding='same',\n",
    "                     input_shape=(28, 28, 1)))\n",
    "    model.add(Conv2D(hp_units2, (3, 3), activation=activation, padding='same'))\n",
    "    model.add(BatchNormalization())\n",
    "    model.add(MaxPooling2D((2, 2), strides=(hp_pooling_strides, hp_pooling_strides) ))\n",
    "    # Flatten and fully connected layers\n",
    "    model.add(Flatten())\n",
    "    #Last layer\n",
    "\n",
    "    model.add(Dense(24, activation='softmax'))\n",
    "    model.compile(loss='sparse_categorical_crossentropy',\n",
    "                  optimizer=keras.optimizers.Adam(learning_rate=hp_learning_rate), metrics=['accuracy'])\n",
    "\n",
    "    return model\n",
    "\n",
    "tuner1 = kt.BayesianOptimization(model_builder1,\n",
    "                     objective='val_accuracy',\n",
    "                      max_trials=10,directory='hyperparameter',\n",
    "                     project_name='model1')\n",
    "\n",
    "tuner1.search_space_summary()"
   ]
  },
  {
   "cell_type": "code",
   "execution_count": 8,
   "id": "2a734520",
   "metadata": {
    "colab": {
     "base_uri": "https://localhost:8080/"
    },
    "id": "2a734520",
    "outputId": "cef56326-57d7-4715-a6da-ee5cfaf311da"
   },
   "outputs": [
    {
     "name": "stdout",
     "output_type": "stream",
     "text": [
      "Trial 10 Complete [00h 03m 53s]\n",
      "val_accuracy: 0.7067307829856873\n",
      "\n",
      "Best val_accuracy So Far: 0.998251736164093\n",
      "Total elapsed time: 00h 51m 47s\n"
     ]
    }
   ],
   "source": [
    "stop_early = tf.keras.callbacks.EarlyStopping(monitor='val_accuracy', patience=5)\n",
    "tuner1.search(img_augmentation.flow(x_train, y_train, batch_size=32), epochs=100, validation_data=(x_val, y_val),\n",
    "             callbacks=[stop_early])"
   ]
  },
  {
   "cell_type": "code",
   "execution_count": 9,
   "id": "f9d417aa",
   "metadata": {
    "id": "f9d417aa"
   },
   "outputs": [],
   "source": [
    "# Get the best hyperparameters\n",
    "best_hps1 = tuner1.oracle.get_best_trials(num_trials=1)[0].hyperparameters.values"
   ]
  },
  {
   "cell_type": "code",
   "execution_count": 10,
   "id": "54001c1b",
   "metadata": {
    "colab": {
     "base_uri": "https://localhost:8080/"
    },
    "id": "54001c1b",
    "outputId": "636174ea-6cad-48de-ada3-408647ca4a40"
   },
   "outputs": [
    {
     "data": {
      "text/plain": [
       "{'units1': 96,\n",
       " 'units2': 96,\n",
       " 'activation': 'relu',\n",
       " 'learning_rate': 0.0001,\n",
       " 'pooling_strides': 2}"
      ]
     },
     "execution_count": 10,
     "metadata": {},
     "output_type": "execute_result"
    }
   ],
   "source": [
    "best_hps1"
   ]
  },
  {
   "cell_type": "code",
   "execution_count": 75,
   "id": "7d6665fa",
   "metadata": {
    "id": "7d6665fa"
   },
   "outputs": [],
   "source": [
    "best_model1 = tuner1.get_best_models(num_models=1)[0]\n",
    "best_model1.save(\"CNN_hyper1.h5\")"
   ]
  },
  {
   "cell_type": "code",
   "execution_count": 93,
   "id": "vphJx3zjvs0n",
   "metadata": {
    "colab": {
     "base_uri": "https://localhost:8080/"
    },
    "id": "vphJx3zjvs0n",
    "outputId": "de1a7431-9511-43da-df5d-9e468c4e1c93"
   },
   "outputs": [
    {
     "name": "stdout",
     "output_type": "stream",
     "text": [
      "Model: \"sequential\"\n",
      "_________________________________________________________________\n",
      " Layer (type)                Output Shape              Param #   \n",
      "=================================================================\n",
      " conv2d (Conv2D)             (None, 28, 28, 96)        960       \n",
      "                                                                 \n",
      " conv2d_1 (Conv2D)           (None, 28, 28, 96)        83040     \n",
      "                                                                 \n",
      " batch_normalization (Batch  (None, 28, 28, 96)        384       \n",
      " Normalization)                                                  \n",
      "                                                                 \n",
      " max_pooling2d (MaxPooling2  (None, 14, 14, 96)        0         \n",
      " D)                                                              \n",
      "                                                                 \n",
      " flatten (Flatten)           (None, 18816)             0         \n",
      "                                                                 \n",
      " dense (Dense)               (None, 24)                451608    \n",
      "                                                                 \n",
      "=================================================================\n",
      "Total params: 535992 (2.04 MB)\n",
      "Trainable params: 535800 (2.04 MB)\n",
      "Non-trainable params: 192 (768.00 Byte)\n",
      "_________________________________________________________________\n"
     ]
    }
   ],
   "source": [
    "best_model1.summary()"
   ]
  },
  {
   "cell_type": "code",
   "execution_count": 84,
   "id": "cEgXgGLM-P-A",
   "metadata": {
    "colab": {
     "base_uri": "https://localhost:8080/"
    },
    "id": "cEgXgGLM-P-A",
    "outputId": "e1960dc1-d46c-46a0-d8d0-d4a61fc2e18e"
   },
   "outputs": [
    {
     "name": "stdout",
     "output_type": "stream",
     "text": [
      "Training accuracy is  [MetricObservation(value=[0.9833422303199768], step=26)]  and loss is  [MetricObservation(value=[0.06356161832809448], step=26)]\n",
      "Val accuracy is  [MetricObservation(value=[0.998251736164093], step=26)]  and loss is  [MetricObservation(value=[0.014613224193453789], step=26)]\n"
     ]
    }
   ],
   "source": [
    "oracle = tuner1.oracle\n",
    "best_trial_id = oracle.get_best_trials(num_trials=1)[0].trial_id\n",
    "\n",
    "trial_info = oracle.get_trial(best_trial_id)\n",
    "\n",
    "training_metrics = trial_info.metrics.get_history('accuracy')\n",
    "validation_metrics = trial_info.metrics.get_history('val_accuracy')\n",
    "training_loss = trial_info.metrics.get_history('loss')\n",
    "validation_loss = trial_info.metrics.get_history('val_loss')\n",
    "print(\"Training accuracy is \",training_metrics,\" and loss is \",training_loss)\n",
    "print(\"Val accuracy is \",validation_metrics,\" and loss is \",validation_loss)"
   ]
  },
  {
   "cell_type": "code",
   "execution_count": 32,
   "id": "72bceec4",
   "metadata": {
    "colab": {
     "base_uri": "https://localhost:8080/"
    },
    "id": "72bceec4",
    "outputId": "320b3454-bda4-4d90-bdbe-de798b95992a"
   },
   "outputs": [
    {
     "name": "stdout",
     "output_type": "stream",
     "text": [
      "Search space summary\n",
      "Default search space size: 7\n",
      "units1 (Int)\n",
      "{'default': None, 'conditions': [], 'min_value': 32, 'max_value': 162, 'step': 32, 'sampling': 'linear'}\n",
      "units2 (Int)\n",
      "{'default': None, 'conditions': [], 'min_value': 32, 'max_value': 162, 'step': 32, 'sampling': 'linear'}\n",
      "units3 (Int)\n",
      "{'default': None, 'conditions': [], 'min_value': 32, 'max_value': 162, 'step': 32, 'sampling': 'linear'}\n",
      "units4 (Int)\n",
      "{'default': None, 'conditions': [], 'min_value': 32, 'max_value': 162, 'step': 32, 'sampling': 'linear'}\n",
      "activation (Choice)\n",
      "{'default': 'relu', 'conditions': [], 'values': ['relu', 'tanh'], 'ordered': False}\n",
      "learning_rate (Choice)\n",
      "{'default': 0.01, 'conditions': [], 'values': [0.01, 0.001, 0.0001], 'ordered': True}\n",
      "pooling_strides (Int)\n",
      "{'default': None, 'conditions': [], 'min_value': 1, 'max_value': 3, 'step': 1, 'sampling': 'linear'}\n"
     ]
    }
   ],
   "source": [
    "def model_builder2(hp):\n",
    "    #HYPERPARAMETERS\n",
    "    hp_units1 = hp.Int('units1', min_value=32, max_value=162, step=32)\n",
    "    hp_units2 = hp.Int('units2', min_value=32, max_value=162, step=32)\n",
    "    hp_units3 = hp.Int('units3', min_value=32, max_value=162, step=32)\n",
    "    hp_units4 = hp.Int('units4', min_value=32, max_value=162, step=32)\n",
    "    activation = hp.Choice(\"activation\", [\"relu\", \"tanh\"])\n",
    "    hp_learning_rate = hp.Choice('learning_rate', values=[1e-2, 1e-3, 1e-4])\n",
    "    hp_pooling_strides = hp.Int('pooling_strides', min_value=1, max_value=3, step=1)  \n",
    "\n",
    "    #MODEL\n",
    "    model = Sequential()\n",
    "    model.add(Conv2D(hp_units1, (3, 3), activation=activation, padding='same',\n",
    "                     input_shape=(28, 28, 1)))\n",
    "    model.add(Conv2D(hp_units2, (3, 3), activation=activation, padding='same'))\n",
    "    model.add(BatchNormalization())\n",
    "    model.add(MaxPooling2D((2, 2), strides=(hp_pooling_strides, hp_pooling_strides) ))\n",
    "\n",
    "    model.add(Conv2D(hp_units3, (3, 3), activation=activation, padding='same'))\n",
    "    model.add(BatchNormalization())\n",
    "    model.add(Conv2D(hp_units4, (3, 3), activation=activation, padding='same'))\n",
    "    model.add(BatchNormalization())\n",
    "    model.add(MaxPooling2D((2, 2), strides=(hp_pooling_strides, hp_pooling_strides) ))\n",
    "\n",
    "    # Flatten and fully connected layers\n",
    "    model.add(Flatten())\n",
    "    #Last layer\n",
    "    model.add(BatchNormalization())\n",
    "    model.add(Dense(24, activation='softmax'))\n",
    "\n",
    "    model.compile(loss='sparse_categorical_crossentropy',\n",
    "                  optimizer=keras.optimizers.Adam(learning_rate=hp_learning_rate), metrics=['accuracy'])\n",
    "\n",
    "    return model\n",
    "\n",
    "tuner2 = kt.BayesianOptimization(model_builder2,\n",
    "                     objective='val_accuracy',\n",
    "                      max_trials=10,directory='hyperparameter',\n",
    "                     project_name='model2')\n",
    "\n",
    "tuner2.search_space_summary()"
   ]
  },
  {
   "cell_type": "code",
   "execution_count": 33,
   "id": "17cabf29",
   "metadata": {
    "colab": {
     "base_uri": "https://localhost:8080/"
    },
    "id": "17cabf29",
    "outputId": "739caf9c-b4c4-4f38-9931-0a3b38d7d634"
   },
   "outputs": [
    {
     "name": "stdout",
     "output_type": "stream",
     "text": [
      "Trial 10 Complete [00h 04m 06s]\n",
      "val_accuracy: 0.941724956035614\n",
      "\n",
      "Best val_accuracy So Far: 0.995192289352417\n",
      "Total elapsed time: 00h 28m 34s\n"
     ]
    }
   ],
   "source": [
    "tuner2.search(img_augmentation.flow(x_train, y_train, batch_size=32), epochs=100, validation_data=(x_val, y_val),\n",
    "             callbacks=[stop_early])"
   ]
  },
  {
   "cell_type": "code",
   "execution_count": 34,
   "id": "67e45a0c",
   "metadata": {
    "colab": {
     "base_uri": "https://localhost:8080/"
    },
    "id": "67e45a0c",
    "outputId": "aec423e0-c98d-433e-f94d-bb6fd678dddc"
   },
   "outputs": [
    {
     "data": {
      "text/plain": [
       "{'units1': 32,\n",
       " 'units2': 64,\n",
       " 'units3': 160,\n",
       " 'units4': 160,\n",
       " 'activation': 'relu',\n",
       " 'learning_rate': 0.001,\n",
       " 'pooling_strides': 3}"
      ]
     },
     "execution_count": 34,
     "metadata": {},
     "output_type": "execute_result"
    }
   ],
   "source": [
    "best_hps2 = tuner2.oracle.get_best_trials(num_trials=1)[0].hyperparameters.values\n",
    "best_hps2"
   ]
  },
  {
   "cell_type": "code",
   "execution_count": 76,
   "id": "m0oR3Xoz_2At",
   "metadata": {
    "id": "m0oR3Xoz_2At"
   },
   "outputs": [],
   "source": [
    "best_model2 = tuner2.get_best_models(num_models=1)[0]\n",
    "best_model2.save(\"CNN_hyper2.h5\")"
   ]
  },
  {
   "cell_type": "code",
   "execution_count": 92,
   "id": "ODYeGmwjvqYk",
   "metadata": {
    "colab": {
     "base_uri": "https://localhost:8080/"
    },
    "id": "ODYeGmwjvqYk",
    "outputId": "e53ebdb5-2ba4-4f96-9295-7c6f57be8d3e"
   },
   "outputs": [
    {
     "name": "stdout",
     "output_type": "stream",
     "text": [
      "Model: \"sequential\"\n",
      "_________________________________________________________________\n",
      " Layer (type)                Output Shape              Param #   \n",
      "=================================================================\n",
      " conv2d (Conv2D)             (None, 28, 28, 32)        320       \n",
      "                                                                 \n",
      " conv2d_1 (Conv2D)           (None, 28, 28, 64)        18496     \n",
      "                                                                 \n",
      " batch_normalization (Batch  (None, 28, 28, 64)        256       \n",
      " Normalization)                                                  \n",
      "                                                                 \n",
      " max_pooling2d (MaxPooling2  (None, 9, 9, 64)          0         \n",
      " D)                                                              \n",
      "                                                                 \n",
      " conv2d_2 (Conv2D)           (None, 9, 9, 160)         92320     \n",
      "                                                                 \n",
      " batch_normalization_1 (Bat  (None, 9, 9, 160)         640       \n",
      " chNormalization)                                                \n",
      "                                                                 \n",
      " conv2d_3 (Conv2D)           (None, 9, 9, 160)         230560    \n",
      "                                                                 \n",
      " batch_normalization_2 (Bat  (None, 9, 9, 160)         640       \n",
      " chNormalization)                                                \n",
      "                                                                 \n",
      " max_pooling2d_1 (MaxPoolin  (None, 3, 3, 160)         0         \n",
      " g2D)                                                            \n",
      "                                                                 \n",
      " flatten (Flatten)           (None, 1440)              0         \n",
      "                                                                 \n",
      " batch_normalization_3 (Bat  (None, 1440)              5760      \n",
      " chNormalization)                                                \n",
      "                                                                 \n",
      " dense (Dense)               (None, 24)                34584     \n",
      "                                                                 \n",
      "=================================================================\n",
      "Total params: 383576 (1.46 MB)\n",
      "Trainable params: 379928 (1.45 MB)\n",
      "Non-trainable params: 3648 (14.25 KB)\n",
      "_________________________________________________________________\n"
     ]
    }
   ],
   "source": [
    "best_model2.summary()"
   ]
  },
  {
   "cell_type": "code",
   "execution_count": 83,
   "id": "c-yl4bqFAAon",
   "metadata": {
    "colab": {
     "base_uri": "https://localhost:8080/"
    },
    "id": "c-yl4bqFAAon",
    "outputId": "4ccce10f-6b2a-4164-ea43-091944b6d0ed"
   },
   "outputs": [
    {
     "name": "stdout",
     "output_type": "stream",
     "text": [
      "Training accuracy is  [MetricObservation(value=[0.9827594757080078], step=8)]  and loss is  [MetricObservation(value=[0.05249616876244545], step=8)]\n",
      "Val accuracy is  [MetricObservation(value=[0.995192289352417], step=8)]  and loss is  [MetricObservation(value=[0.013153145089745522], step=8)]\n"
     ]
    }
   ],
   "source": [
    "\n",
    "oracle = tuner2.oracle\n",
    "\n",
    "best_trial_id = oracle.get_best_trials(num_trials=1)[0].trial_id\n",
    "\n",
    "trial_info = oracle.get_trial(best_trial_id)\n",
    "training_metrics = trial_info.metrics.get_history('accuracy')\n",
    "validation_metrics = trial_info.metrics.get_history('val_accuracy')\n",
    "training_loss = trial_info.metrics.get_history('loss')\n",
    "validation_loss = trial_info.metrics.get_history('val_loss')\n",
    "print(\"Training accuracy is \",training_metrics,\" and loss is \",training_loss)\n",
    "print(\"Val accuracy is \",validation_metrics,\" and loss is \",validation_loss)"
   ]
  },
  {
   "cell_type": "code",
   "execution_count": 37,
   "id": "1770121d",
   "metadata": {
    "colab": {
     "base_uri": "https://localhost:8080/"
    },
    "id": "1770121d",
    "outputId": "683372a5-6d21-4afd-e910-24e6d2f860ea"
   },
   "outputs": [
    {
     "name": "stdout",
     "output_type": "stream",
     "text": [
      "Search space summary\n",
      "Default search space size: 9\n",
      "units1 (Int)\n",
      "{'default': None, 'conditions': [], 'min_value': 32, 'max_value': 162, 'step': 32, 'sampling': 'linear'}\n",
      "units2 (Int)\n",
      "{'default': None, 'conditions': [], 'min_value': 32, 'max_value': 162, 'step': 32, 'sampling': 'linear'}\n",
      "units3 (Int)\n",
      "{'default': None, 'conditions': [], 'min_value': 32, 'max_value': 162, 'step': 32, 'sampling': 'linear'}\n",
      "units4 (Int)\n",
      "{'default': None, 'conditions': [], 'min_value': 32, 'max_value': 162, 'step': 32, 'sampling': 'linear'}\n",
      "units5 (Int)\n",
      "{'default': None, 'conditions': [], 'min_value': 32, 'max_value': 162, 'step': 32, 'sampling': 'linear'}\n",
      "units6 (Int)\n",
      "{'default': None, 'conditions': [], 'min_value': 32, 'max_value': 162, 'step': 32, 'sampling': 'linear'}\n",
      "activation (Choice)\n",
      "{'default': 'relu', 'conditions': [], 'values': ['relu', 'tanh'], 'ordered': False}\n",
      "learning_rate (Choice)\n",
      "{'default': 0.01, 'conditions': [], 'values': [0.01, 0.001, 0.0001], 'ordered': True}\n",
      "pooling_strides (Int)\n",
      "{'default': None, 'conditions': [], 'min_value': 1, 'max_value': 3, 'step': 1, 'sampling': 'linear'}\n"
     ]
    }
   ],
   "source": [
    "def model_builder3(hp):\n",
    "    #HYPERPARAMETERS\n",
    "    hp_units1 = hp.Int('units1', min_value=32, max_value=162, step=32)\n",
    "    hp_units2 = hp.Int('units2', min_value=32, max_value=162, step=32)\n",
    "    hp_units3 = hp.Int('units3', min_value=32, max_value=162, step=32)\n",
    "    hp_units4 = hp.Int('units4', min_value=32, max_value=162, step=32)\n",
    "    hp_units5 = hp.Int('units5', min_value=32, max_value=162, step=32)\n",
    "    hp_units6 = hp.Int('units6', min_value=32, max_value=162, step=32)\n",
    "    activation = hp.Choice(\"activation\", [\"relu\", \"tanh\"])\n",
    "    hp_learning_rate = hp.Choice('learning_rate', values=[1e-2, 1e-3, 1e-4])\n",
    "    hp_pooling_strides = hp.Int('pooling_strides', min_value=1, max_value=3, step=1)  \n",
    "\n",
    "    #MODEL\n",
    "    model = Sequential()\n",
    "    model.add(Conv2D(hp_units1, (3, 3), activation=activation, padding='same',\n",
    "                     input_shape=(28, 28, 1)))\n",
    "    model.add(Conv2D(hp_units2, (3, 3), activation=activation, padding='same'))\n",
    "    model.add(BatchNormalization())\n",
    "    model.add(MaxPooling2D((2, 2), strides=(hp_pooling_strides, hp_pooling_strides) ))\n",
    "\n",
    "    model.add(Conv2D(hp_units3, (3, 3), activation=activation, padding='same'))\n",
    "    model.add(BatchNormalization())\n",
    "    model.add(Conv2D(hp_units4, (3, 3), activation=activation, padding='same'))\n",
    "    model.add(BatchNormalization())\n",
    "    model.add(MaxPooling2D((2, 2), strides=(hp_pooling_strides, hp_pooling_strides) ))\n",
    "\n",
    "    model.add(Conv2D(hp_units5, (3, 3), activation=activation, padding='same'))\n",
    "    model.add(BatchNormalization())\n",
    "    model.add(Conv2D(hp_units6, (3, 3), activation=activation, padding='same'))\n",
    "    model.add(BatchNormalization())\n",
    "    model.add(MaxPooling2D((2, 2), strides=(hp_pooling_strides, hp_pooling_strides) ))\n",
    "\n",
    "    # Flatten and fully connected layers\n",
    "    model.add(Flatten())\n",
    "    #Last layer\n",
    "    model.add(BatchNormalization())\n",
    "    model.add(Dropout(0.05))\n",
    "    model.add(Dense(24, activation='softmax'))\n",
    "\n",
    "    model.compile(loss='sparse_categorical_crossentropy',\n",
    "                  optimizer=keras.optimizers.Adam(learning_rate=hp_learning_rate), metrics=['accuracy'])\n",
    "\n",
    "    return model\n",
    "\n",
    "tuner3 = kt.BayesianOptimization(model_builder3,\n",
    "                     objective='val_accuracy',\n",
    "                      max_trials=10,directory='hyperparameter',\n",
    "                     project_name='model3')\n",
    "\n",
    "tuner3.search_space_summary()"
   ]
  },
  {
   "cell_type": "code",
   "execution_count": 38,
   "id": "3d5b3158",
   "metadata": {
    "colab": {
     "base_uri": "https://localhost:8080/"
    },
    "id": "3d5b3158",
    "outputId": "9bab497f-0ceb-4f51-d481-f748664f6aff"
   },
   "outputs": [
    {
     "name": "stdout",
     "output_type": "stream",
     "text": [
      "Trial 10 Complete [00h 03m 25s]\n",
      "val_accuracy: 0.9784382581710815\n",
      "\n",
      "Best val_accuracy So Far: 0.9992715716362\n",
      "Total elapsed time: 00h 37m 39s\n"
     ]
    }
   ],
   "source": [
    "tuner3.search(img_augmentation.flow(x_train, y_train, batch_size=32), epochs=100, validation_data=(x_val, y_val),\n",
    "             callbacks=[stop_early])"
   ]
  },
  {
   "cell_type": "code",
   "execution_count": 39,
   "id": "237b317c",
   "metadata": {
    "colab": {
     "base_uri": "https://localhost:8080/"
    },
    "id": "237b317c",
    "outputId": "50946811-7efd-4a46-fbd2-7f14097fb74a"
   },
   "outputs": [
    {
     "data": {
      "text/plain": [
       "{'units1': 160,\n",
       " 'units2': 64,\n",
       " 'units3': 128,\n",
       " 'units4': 96,\n",
       " 'units5': 96,\n",
       " 'units6': 64,\n",
       " 'activation': 'relu',\n",
       " 'learning_rate': 0.0001,\n",
       " 'pooling_strides': 1}"
      ]
     },
     "execution_count": 39,
     "metadata": {},
     "output_type": "execute_result"
    }
   ],
   "source": [
    "best_hps3 = tuner3.oracle.get_best_trials(num_trials=1)[0].hyperparameters.values\n",
    "best_hps3"
   ]
  },
  {
   "cell_type": "code",
   "execution_count": 40,
   "id": "9cd429bc",
   "metadata": {
    "colab": {
     "base_uri": "https://localhost:8080/"
    },
    "id": "9cd429bc",
    "outputId": "201349a0-355d-4409-cf25-96aa800d5008"
   },
   "outputs": [
    {
     "name": "stderr",
     "output_type": "stream",
     "text": [
      "/usr/local/lib/python3.10/dist-packages/keras/src/engine/training.py:3079: UserWarning: You are saving your model as an HDF5 file via `model.save()`. This file format is considered legacy. We recommend using instead the native Keras format, e.g. `model.save('my_model.keras')`.\n",
      "  saving_api.save_model(\n"
     ]
    }
   ],
   "source": [
    "best_model3 = tuner3.get_best_models(num_models=1)[0]\n",
    "best_model3.save(\"CNN_hyper3.h5\")"
   ]
  },
  {
   "cell_type": "code",
   "execution_count": 91,
   "id": "4yvZW6OwvnO4",
   "metadata": {
    "colab": {
     "base_uri": "https://localhost:8080/"
    },
    "id": "4yvZW6OwvnO4",
    "outputId": "383e047e-6273-412f-f1a0-86ddfca822e4"
   },
   "outputs": [
    {
     "name": "stdout",
     "output_type": "stream",
     "text": [
      "Model: \"sequential\"\n",
      "_________________________________________________________________\n",
      " Layer (type)                Output Shape              Param #   \n",
      "=================================================================\n",
      " conv2d (Conv2D)             (None, 28, 28, 160)       1600      \n",
      "                                                                 \n",
      " conv2d_1 (Conv2D)           (None, 28, 28, 64)        92224     \n",
      "                                                                 \n",
      " batch_normalization (Batch  (None, 28, 28, 64)        256       \n",
      " Normalization)                                                  \n",
      "                                                                 \n",
      " max_pooling2d (MaxPooling2  (None, 27, 27, 64)        0         \n",
      " D)                                                              \n",
      "                                                                 \n",
      " conv2d_2 (Conv2D)           (None, 27, 27, 128)       73856     \n",
      "                                                                 \n",
      " batch_normalization_1 (Bat  (None, 27, 27, 128)       512       \n",
      " chNormalization)                                                \n",
      "                                                                 \n",
      " conv2d_3 (Conv2D)           (None, 27, 27, 96)        110688    \n",
      "                                                                 \n",
      " batch_normalization_2 (Bat  (None, 27, 27, 96)        384       \n",
      " chNormalization)                                                \n",
      "                                                                 \n",
      " max_pooling2d_1 (MaxPoolin  (None, 26, 26, 96)        0         \n",
      " g2D)                                                            \n",
      "                                                                 \n",
      " conv2d_4 (Conv2D)           (None, 26, 26, 96)        83040     \n",
      "                                                                 \n",
      " batch_normalization_3 (Bat  (None, 26, 26, 96)        384       \n",
      " chNormalization)                                                \n",
      "                                                                 \n",
      " conv2d_5 (Conv2D)           (None, 26, 26, 64)        55360     \n",
      "                                                                 \n",
      " batch_normalization_4 (Bat  (None, 26, 26, 64)        256       \n",
      " chNormalization)                                                \n",
      "                                                                 \n",
      " max_pooling2d_2 (MaxPoolin  (None, 25, 25, 64)        0         \n",
      " g2D)                                                            \n",
      "                                                                 \n",
      " flatten (Flatten)           (None, 40000)             0         \n",
      "                                                                 \n",
      " batch_normalization_5 (Bat  (None, 40000)             160000    \n",
      " chNormalization)                                                \n",
      "                                                                 \n",
      " dropout (Dropout)           (None, 40000)             0         \n",
      "                                                                 \n",
      " dense (Dense)               (None, 24)                960024    \n",
      "                                                                 \n",
      "=================================================================\n",
      "Total params: 1538584 (5.87 MB)\n",
      "Trainable params: 1457688 (5.56 MB)\n",
      "Non-trainable params: 80896 (316.00 KB)\n",
      "_________________________________________________________________\n"
     ]
    }
   ],
   "source": [
    "best_model3.summary()"
   ]
  },
  {
   "cell_type": "code",
   "execution_count": 85,
   "id": "0d427918",
   "metadata": {
    "colab": {
     "base_uri": "https://localhost:8080/"
    },
    "id": "0d427918",
    "outputId": "e37755bf-d023-4eda-b2a5-9c295ee7f318"
   },
   "outputs": [
    {
     "name": "stdout",
     "output_type": "stream",
     "text": [
      "Training accuracy is  [MetricObservation(value=[0.9896070957183838], step=17)]  and loss is  [MetricObservation(value=[0.04822712764143944], step=17)]\n",
      "Val accuracy is  [MetricObservation(value=[0.9992715716362], step=17)]  and loss is  [MetricObservation(value=[0.0020518091041594744], step=17)]\n"
     ]
    }
   ],
   "source": [
    "\n",
    "oracle = tuner3.oracle\n",
    "\n",
    "best_trial_id = oracle.get_best_trials(num_trials=1)[0].trial_id\n",
    "\n",
    "trial_info = oracle.get_trial(best_trial_id)\n",
    "training_metrics = trial_info.metrics.get_history('accuracy')\n",
    "validation_metrics = trial_info.metrics.get_history('val_accuracy')\n",
    "training_loss = trial_info.metrics.get_history('loss')\n",
    "validation_loss = trial_info.metrics.get_history('val_loss')\n",
    "print(\"Training accuracy is \",training_metrics,\" and loss is \",training_loss)\n",
    "print(\"Val accuracy is \",validation_metrics,\" and loss is \",validation_loss)"
   ]
  },
  {
   "cell_type": "code",
   "execution_count": 44,
   "id": "iYx9fvH1InCi",
   "metadata": {
    "colab": {
     "base_uri": "https://localhost:8080/"
    },
    "id": "iYx9fvH1InCi",
    "outputId": "d4362bd5-1ea3-4f4b-b67d-76253fc13f60"
   },
   "outputs": [
    {
     "name": "stdout",
     "output_type": "stream",
     "text": [
      "Reloading Tuner from hyperparameter/model4/tuner0.json\n",
      "Search space summary\n",
      "Default search space size: 18\n",
      "units1 (Int)\n",
      "{'default': None, 'conditions': [], 'min_value': 32, 'max_value': 162, 'step': 32, 'sampling': 'linear'}\n",
      "units2 (Int)\n",
      "{'default': None, 'conditions': [], 'min_value': 32, 'max_value': 162, 'step': 32, 'sampling': 'linear'}\n",
      "units3 (Int)\n",
      "{'default': None, 'conditions': [], 'min_value': 32, 'max_value': 162, 'step': 32, 'sampling': 'linear'}\n",
      "units4 (Int)\n",
      "{'default': None, 'conditions': [], 'min_value': 32, 'max_value': 162, 'step': 32, 'sampling': 'linear'}\n",
      "units5 (Int)\n",
      "{'default': None, 'conditions': [], 'min_value': 32, 'max_value': 162, 'step': 32, 'sampling': 'linear'}\n",
      "units6 (Int)\n",
      "{'default': None, 'conditions': [], 'min_value': 32, 'max_value': 162, 'step': 32, 'sampling': 'linear'}\n",
      "units7 (Int)\n",
      "{'default': None, 'conditions': [], 'min_value': 32, 'max_value': 162, 'step': 32, 'sampling': 'linear'}\n",
      "units8 (Int)\n",
      "{'default': None, 'conditions': [], 'min_value': 32, 'max_value': 162, 'step': 32, 'sampling': 'linear'}\n",
      "activation1 (Choice)\n",
      "{'default': 'relu', 'conditions': [], 'values': ['relu', 'tanh'], 'ordered': False}\n",
      "activation2 (Choice)\n",
      "{'default': 'relu', 'conditions': [], 'values': ['relu', 'tanh'], 'ordered': False}\n",
      "activation3 (Choice)\n",
      "{'default': 'relu', 'conditions': [], 'values': ['relu', 'tanh'], 'ordered': False}\n",
      "activation4 (Choice)\n",
      "{'default': 'relu', 'conditions': [], 'values': ['relu', 'tanh'], 'ordered': False}\n",
      "activation5 (Choice)\n",
      "{'default': 'relu', 'conditions': [], 'values': ['relu', 'tanh'], 'ordered': False}\n",
      "activation6 (Choice)\n",
      "{'default': 'relu', 'conditions': [], 'values': ['relu', 'tanh'], 'ordered': False}\n",
      "activation7 (Choice)\n",
      "{'default': 'relu', 'conditions': [], 'values': ['relu', 'tanh'], 'ordered': False}\n",
      "activation8 (Choice)\n",
      "{'default': 'relu', 'conditions': [], 'values': ['relu', 'tanh'], 'ordered': False}\n",
      "learning_rate (Choice)\n",
      "{'default': 0.01, 'conditions': [], 'values': [0.01, 0.001, 0.0001], 'ordered': True}\n",
      "pooling_strides (Int)\n",
      "{'default': None, 'conditions': [], 'min_value': 1, 'max_value': 3, 'step': 1, 'sampling': 'linear'}\n"
     ]
    }
   ],
   "source": [
    "def model_builder4(hp):\n",
    "    #HYPERPARAMETERS\n",
    "    hp_units1 = hp.Int('units1', min_value=32, max_value=162, step=32)\n",
    "    hp_units2 = hp.Int('units2', min_value=32, max_value=162, step=32)\n",
    "    hp_units3 = hp.Int('units3', min_value=32, max_value=162, step=32)\n",
    "    hp_units4 = hp.Int('units4', min_value=32, max_value=162, step=32)\n",
    "    hp_units5 = hp.Int('units5', min_value=32, max_value=162, step=32)\n",
    "    hp_units6 = hp.Int('units6', min_value=32, max_value=162, step=32)\n",
    "    hp_units7 = hp.Int('units7', min_value=32, max_value=162, step=32)\n",
    "    hp_units8 = hp.Int('units8', min_value=32, max_value=162, step=32)\n",
    "\n",
    "    activation1 = hp.Choice(\"activation1\", [\"relu\", \"tanh\"])\n",
    "    activation2 = hp.Choice(\"activation2\", [\"relu\", \"tanh\"])\n",
    "    activation3 = hp.Choice(\"activation3\", [\"relu\", \"tanh\"])\n",
    "    activation4 = hp.Choice(\"activation4\", [\"relu\", \"tanh\"])\n",
    "    activation5 = hp.Choice(\"activation5\", [\"relu\", \"tanh\"])\n",
    "    activation6 = hp.Choice(\"activation6\", [\"relu\", \"tanh\"])\n",
    "    activation7 = hp.Choice(\"activation7\", [\"relu\", \"tanh\"])\n",
    "    activation8 = hp.Choice(\"activation8\", [\"relu\", \"tanh\"])\n",
    "\n",
    "    hp_learning_rate = hp.Choice('learning_rate', values=[1e-2, 1e-3, 1e-4])\n",
    "    hp_pooling_strides = hp.Int('pooling_strides', min_value=1, max_value=3, step=1)  \n",
    "\n",
    "    #MODEL\n",
    "    model = Sequential()\n",
    "    model.add(Conv2D(hp_units1, (3, 3), activation=activation1, padding='same',input_shape=(28, 28, 1)))\n",
    "    model.add(Conv2D(hp_units2, (3, 3), activation=activation2, padding='same'))\n",
    "    model.add(BatchNormalization())\n",
    "    model.add(MaxPooling2D((2, 2), strides=(2, 2) ))\n",
    "\n",
    "    model.add(Conv2D(hp_units3, (3, 3), activation=activation3, padding='same'))\n",
    "    model.add(BatchNormalization())\n",
    "    model.add(Conv2D(hp_units4, (3, 3), activation=activation4, padding='same'))\n",
    "    model.add(BatchNormalization())\n",
    "    model.add(MaxPooling2D((2, 2), strides=(2, 2) ))\n",
    "\n",
    "    model.add(Conv2D(hp_units5, (3, 3), activation=activation5, padding='same'))\n",
    "    model.add(BatchNormalization())\n",
    "    model.add(Conv2D(hp_units6, (3, 3), activation=activation6, padding='same'))\n",
    "    model.add(BatchNormalization())\n",
    "    model.add(MaxPooling2D((2, 2), strides=(2, 2) ))\n",
    "\n",
    "    model.add(Conv2D(hp_units7, (3, 3), activation=activation7, padding='same'))\n",
    "    model.add(BatchNormalization())\n",
    "    model.add(Conv2D(hp_units8, (3, 3), activation=activation8, padding='same'))\n",
    "    model.add(BatchNormalization())\n",
    "    model.add(MaxPooling2D((2, 2), strides=(2, 2) ))\n",
    "\n",
    "    # Flatten and fully connected layers\n",
    "    model.add(Flatten())\n",
    "    #Last layer\n",
    "    model.add(BatchNormalization())\n",
    "    model.add(Dropout(0.05))\n",
    "    model.add(Dense(24, activation='softmax'))\n",
    "\n",
    "    model.compile(loss='sparse_categorical_crossentropy',\n",
    "                  optimizer=keras.optimizers.Adam(learning_rate=hp_learning_rate), metrics=['accuracy'])\n",
    "\n",
    "    return model\n",
    "\n",
    "tuner4 = kt.BayesianOptimization(model_builder4,\n",
    "                     objective='val_accuracy',\n",
    "                      max_trials=20,directory='hyperparameter',\n",
    "                     project_name='model4')\n",
    "\n",
    "tuner4.search_space_summary()"
   ]
  },
  {
   "cell_type": "code",
   "execution_count": 45,
   "id": "7UpEFqxSIn1b",
   "metadata": {
    "colab": {
     "base_uri": "https://localhost:8080/"
    },
    "id": "7UpEFqxSIn1b",
    "outputId": "6aca0a1c-c206-45ed-a1af-ca75096c490a"
   },
   "outputs": [
    {
     "name": "stdout",
     "output_type": "stream",
     "text": [
      "Trial 20 Complete [00h 03m 51s]\n",
      "val_accuracy: 0.7642773985862732\n",
      "\n",
      "Best val_accuracy So Far: 1.0\n",
      "Total elapsed time: 01h 05m 26s\n"
     ]
    }
   ],
   "source": [
    "tuner4.search(img_augmentation.flow(x_train, y_train, batch_size=32), epochs=100, validation_data=(x_val, y_val),\n",
    "             callbacks=[stop_early])"
   ]
  },
  {
   "cell_type": "code",
   "execution_count": 46,
   "id": "tthJYYBnJBDO",
   "metadata": {
    "colab": {
     "base_uri": "https://localhost:8080/"
    },
    "id": "tthJYYBnJBDO",
    "outputId": "a817efca-6c47-4260-f46e-9107efbd247f"
   },
   "outputs": [
    {
     "data": {
      "text/plain": [
       "{'units1': 128,\n",
       " 'units2': 96,\n",
       " 'units3': 128,\n",
       " 'units4': 128,\n",
       " 'units5': 64,\n",
       " 'units6': 128,\n",
       " 'units7': 32,\n",
       " 'units8': 160,\n",
       " 'activation1': 'tanh',\n",
       " 'activation2': 'relu',\n",
       " 'activation3': 'tanh',\n",
       " 'activation4': 'relu',\n",
       " 'activation5': 'relu',\n",
       " 'activation6': 'relu',\n",
       " 'activation7': 'relu',\n",
       " 'activation8': 'relu',\n",
       " 'learning_rate': 0.0001,\n",
       " 'pooling_strides': 3}"
      ]
     },
     "execution_count": 46,
     "metadata": {},
     "output_type": "execute_result"
    }
   ],
   "source": [
    "best_hps4 = tuner4.oracle.get_best_trials(num_trials=1)[0].hyperparameters.values\n",
    "best_hps4"
   ]
  },
  {
   "cell_type": "code",
   "execution_count": 47,
   "id": "WkJoxUefJBFf",
   "metadata": {
    "id": "WkJoxUefJBFf"
   },
   "outputs": [],
   "source": [
    "best_model4 = tuner4.get_best_models(num_models=1)[0]\n",
    "best_model4.save(\"CNN_hyper4.h5\")"
   ]
  },
  {
   "cell_type": "code",
   "execution_count": 90,
   "id": "o3Z1kG5avcsX",
   "metadata": {
    "colab": {
     "base_uri": "https://localhost:8080/"
    },
    "id": "o3Z1kG5avcsX",
    "outputId": "586ba45e-f6de-469f-a9b1-d0437b20062f"
   },
   "outputs": [
    {
     "name": "stdout",
     "output_type": "stream",
     "text": [
      "Model: \"sequential\"\n",
      "_________________________________________________________________\n",
      " Layer (type)                Output Shape              Param #   \n",
      "=================================================================\n",
      " conv2d (Conv2D)             (None, 28, 28, 128)       1280      \n",
      "                                                                 \n",
      " conv2d_1 (Conv2D)           (None, 28, 28, 96)        110688    \n",
      "                                                                 \n",
      " batch_normalization (Batch  (None, 28, 28, 96)        384       \n",
      " Normalization)                                                  \n",
      "                                                                 \n",
      " max_pooling2d (MaxPooling2  (None, 14, 14, 96)        0         \n",
      " D)                                                              \n",
      "                                                                 \n",
      " conv2d_2 (Conv2D)           (None, 14, 14, 128)       110720    \n",
      "                                                                 \n",
      " batch_normalization_1 (Bat  (None, 14, 14, 128)       512       \n",
      " chNormalization)                                                \n",
      "                                                                 \n",
      " conv2d_3 (Conv2D)           (None, 14, 14, 128)       147584    \n",
      "                                                                 \n",
      " batch_normalization_2 (Bat  (None, 14, 14, 128)       512       \n",
      " chNormalization)                                                \n",
      "                                                                 \n",
      " max_pooling2d_1 (MaxPoolin  (None, 7, 7, 128)         0         \n",
      " g2D)                                                            \n",
      "                                                                 \n",
      " conv2d_4 (Conv2D)           (None, 7, 7, 64)          73792     \n",
      "                                                                 \n",
      " batch_normalization_3 (Bat  (None, 7, 7, 64)          256       \n",
      " chNormalization)                                                \n",
      "                                                                 \n",
      " conv2d_5 (Conv2D)           (None, 7, 7, 128)         73856     \n",
      "                                                                 \n",
      " batch_normalization_4 (Bat  (None, 7, 7, 128)         512       \n",
      " chNormalization)                                                \n",
      "                                                                 \n",
      " max_pooling2d_2 (MaxPoolin  (None, 3, 3, 128)         0         \n",
      " g2D)                                                            \n",
      "                                                                 \n",
      " conv2d_6 (Conv2D)           (None, 3, 3, 32)          36896     \n",
      "                                                                 \n",
      " batch_normalization_5 (Bat  (None, 3, 3, 32)          128       \n",
      " chNormalization)                                                \n",
      "                                                                 \n",
      " conv2d_7 (Conv2D)           (None, 3, 3, 160)         46240     \n",
      "                                                                 \n",
      " batch_normalization_6 (Bat  (None, 3, 3, 160)         640       \n",
      " chNormalization)                                                \n",
      "                                                                 \n",
      " max_pooling2d_3 (MaxPoolin  (None, 1, 1, 160)         0         \n",
      " g2D)                                                            \n",
      "                                                                 \n",
      " flatten (Flatten)           (None, 160)               0         \n",
      "                                                                 \n",
      " batch_normalization_7 (Bat  (None, 160)               640       \n",
      " chNormalization)                                                \n",
      "                                                                 \n",
      " dropout (Dropout)           (None, 160)               0         \n",
      "                                                                 \n",
      " dense (Dense)               (None, 24)                3864      \n",
      "                                                                 \n",
      "=================================================================\n",
      "Total params: 608504 (2.32 MB)\n",
      "Trainable params: 606712 (2.31 MB)\n",
      "Non-trainable params: 1792 (7.00 KB)\n",
      "_________________________________________________________________\n"
     ]
    }
   ],
   "source": [
    "best_model4.summary()"
   ]
  },
  {
   "cell_type": "code",
   "execution_count": 86,
   "id": "RizAKpH_JMuK",
   "metadata": {
    "colab": {
     "base_uri": "https://localhost:8080/"
    },
    "id": "RizAKpH_JMuK",
    "outputId": "2f9b84a5-d055-4bfb-d017-bb9b4e6c6dc3"
   },
   "outputs": [
    {
     "name": "stdout",
     "output_type": "stream",
     "text": [
      "Training accuracy is  [MetricObservation(value=[0.9966976046562195], step=13)]  and loss is  [MetricObservation(value=[0.015952402725815773], step=13)]\n",
      "Val accuracy is  [MetricObservation(value=[1.0], step=13)]  and loss is  [MetricObservation(value=[0.0018107733922079206], step=13)]\n"
     ]
    }
   ],
   "source": [
    "\n",
    "oracle = tuner4.oracle\n",
    "\n",
    "best_trial_id = oracle.get_best_trials(num_trials=1)[0].trial_id\n",
    "\n",
    "trial_info = oracle.get_trial(best_trial_id)\n",
    "training_metrics = trial_info.metrics.get_history('accuracy')\n",
    "validation_metrics = trial_info.metrics.get_history('val_accuracy')\n",
    "training_loss = trial_info.metrics.get_history('loss')\n",
    "validation_loss = trial_info.metrics.get_history('val_loss')\n",
    "print(\"Training accuracy is \",training_metrics,\" and loss is \",training_loss)\n",
    "print(\"Val accuracy is \",validation_metrics,\" and loss is \",validation_loss)"
   ]
  },
  {
   "cell_type": "code",
   "execution_count": 77,
   "id": "jAGzuvsWjO5_",
   "metadata": {
    "colab": {
     "base_uri": "https://localhost:8080/"
    },
    "id": "jAGzuvsWjO5_",
    "outputId": "cadd6608-05a3-4977-980e-cf35f8a64ffb"
   },
   "outputs": [
    {
     "name": "stdout",
     "output_type": "stream",
     "text": [
      "215/215 [==============================] - 1s 2ms/step\n",
      "215/215 [==============================] - 1s 2ms/step\n",
      "215/215 [==============================] - 1s 3ms/step\n",
      "215/215 [==============================] - 1s 3ms/step\n",
      "94/94 [==============================] - 0s 2ms/step\n",
      "94/94 [==============================] - 0s 2ms/step\n",
      "47/94 [==============>...............] - ETA: 0s"
     ]
    },
    {
     "name": "stderr",
     "output_type": "stream",
     "text": [
      "/content/Predictions_test_set.py:38: SettingWithCopyWarning: \n",
      "A value is trying to be set on a copy of a slice from a DataFrame.\n",
      "Try using .loc[row_indexer,col_indexer] = value instead\n",
      "\n",
      "See the caveats in the documentation: https://pandas.pydata.org/pandas-docs/stable/user_guide/indexing.html#returning-a-view-versus-a-copy\n",
      "  df.loc[:,\"label\"] = y_pred\n"
     ]
    },
    {
     "name": "stdout",
     "output_type": "stream",
     "text": [
      "94/94 [==============================] - 0s 3ms/step\n",
      "94/94 [==============================] - 0s 2ms/step\n",
      "17/94 [====>.........................] - ETA: 0s"
     ]
    },
    {
     "name": "stderr",
     "output_type": "stream",
     "text": [
      "/content/Predictions_test_set.py:38: SettingWithCopyWarning: \n",
      "A value is trying to be set on a copy of a slice from a DataFrame.\n",
      "Try using .loc[row_indexer,col_indexer] = value instead\n",
      "\n",
      "See the caveats in the documentation: https://pandas.pydata.org/pandas-docs/stable/user_guide/indexing.html#returning-a-view-versus-a-copy\n",
      "  df.loc[:,\"label\"] = y_pred\n"
     ]
    },
    {
     "name": "stdout",
     "output_type": "stream",
     "text": [
      "94/94 [==============================] - 0s 4ms/step\n",
      "94/94 [==============================] - 0s 3ms/step\n",
      "38/94 [===========>..................] - ETA: 0s"
     ]
    },
    {
     "name": "stderr",
     "output_type": "stream",
     "text": [
      "/content/Predictions_test_set.py:38: SettingWithCopyWarning: \n",
      "A value is trying to be set on a copy of a slice from a DataFrame.\n",
      "Try using .loc[row_indexer,col_indexer] = value instead\n",
      "\n",
      "See the caveats in the documentation: https://pandas.pydata.org/pandas-docs/stable/user_guide/indexing.html#returning-a-view-versus-a-copy\n",
      "  df.loc[:,\"label\"] = y_pred\n"
     ]
    },
    {
     "name": "stdout",
     "output_type": "stream",
     "text": [
      "94/94 [==============================] - 0s 4ms/step\n",
      "94/94 [==============================] - 0s 3ms/step\n"
     ]
    },
    {
     "name": "stderr",
     "output_type": "stream",
     "text": [
      "/content/Predictions_test_set.py:38: SettingWithCopyWarning: \n",
      "A value is trying to be set on a copy of a slice from a DataFrame.\n",
      "Try using .loc[row_indexer,col_indexer] = value instead\n",
      "\n",
      "See the caveats in the documentation: https://pandas.pydata.org/pandas-docs/stable/user_guide/indexing.html#returning-a-view-versus-a-copy\n",
      "  df.loc[:,\"label\"] = y_pred\n"
     ]
    }
   ],
   "source": [
    "predictions1 = best_model1.predict(x_val)\n",
    "predictions2 = best_model2.predict(x_val)\n",
    "predictions3 = best_model3.predict(x_val)\n",
    "predictions4 = best_model4.predict(x_val)\n",
    "\n",
    "final_pred1 = make_predictions_test(test , best_model1 , dictionary_letters)\n",
    "final_pred1.to_csv(\"hyper_CNN1.csv\",index=False)\n",
    "\n",
    "final_pred2 = make_predictions_test(test , best_model2 , dictionary_letters)\n",
    "final_pred2.to_csv(\"hyper_CNN2.csv\",index=False)\n",
    "\n",
    "final_pred3 = make_predictions_test(test , best_model3 , dictionary_letters)\n",
    "final_pred3.to_csv(\"hyper_CNN3.csv\",index=False)\n",
    "\n",
    "final_pred4 = make_predictions_test(test , best_model4 , dictionary_letters)\n",
    "final_pred4.to_csv(\"hyper_CNN4.csv\",index=False)"
   ]
  },
  {
   "cell_type": "markdown",
   "id": "79225378",
   "metadata": {},
   "source": [
    "## Resources:\n",
    "\n",
    "* https://www.tensorflow.org/api_docs/python/tf/keras/preprocessing/image/ImageDataGenerator\n",
    "\n",
    "* https://keras.io/guides/keras_tuner/getting_started/\n",
    "\n",
    "* https://keras.io/api/layers/pooling_layers/max_pooling2d/\n",
    "* https://www.tensorflow.org/tutorials/keras/keras_tuner\n",
    "* https://www.tensorflow.org/api_docs/python/tf/keras/preprocessing/image/ImageDataGenerator"
   ]
  },
  {
   "cell_type": "code",
   "execution_count": null,
   "id": "2ed9562e",
   "metadata": {},
   "outputs": [],
   "source": []
  }
 ],
 "metadata": {
  "accelerator": "GPU",
  "colab": {
   "gpuType": "V100",
   "provenance": []
  },
  "kernelspec": {
   "display_name": "Python 3 (ipykernel)",
   "language": "python",
   "name": "python3"
  },
  "language_info": {
   "codemirror_mode": {
    "name": "ipython",
    "version": 3
   },
   "file_extension": ".py",
   "mimetype": "text/x-python",
   "name": "python",
   "nbconvert_exporter": "python",
   "pygments_lexer": "ipython3",
   "version": "3.11.3"
  }
 },
 "nbformat": 4,
 "nbformat_minor": 5
}
